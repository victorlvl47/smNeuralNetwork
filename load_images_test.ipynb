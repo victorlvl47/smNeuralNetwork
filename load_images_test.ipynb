{
 "cells": [
  {
   "cell_type": "code",
   "execution_count": 1,
   "id": "f6d3ddcf-dfb8-4d15-82dc-7e78d9f3de39",
   "metadata": {},
   "outputs": [],
   "source": [
    "# provides an easy interface to read and write a wide range of image data\n",
    "import imageio\n",
    "# module finds all the pathnames matching a specified pattern\n",
    "import glob\n",
    "import numpy\n",
    "import matplotlib.pyplot\n",
    "# ensure no external window for the plots\n",
    "%matplotlib inline"
   ]
  },
  {
   "cell_type": "code",
   "execution_count": 2,
   "id": "fea1de43-3aa7-494d-9372-8733be8d8081",
   "metadata": {},
   "outputs": [],
   "source": [
    "# our own image test data set\n",
    "test_dataset = []"
   ]
  },
  {
   "cell_type": "code",
   "execution_count": 3,
   "id": "3dc5da97-a913-4f5c-a545-f8e828c802b6",
   "metadata": {},
   "outputs": [
    {
     "name": "stdout",
     "output_type": "stream",
     "text": [
      "loading: my_images/num_1.png\n",
      "loading: my_images/num_4.png\n",
      "loading: my_images/num_6.png\n",
      "loading: my_images/num_0.png\n",
      "loading: my_images/num_9.png\n",
      "loading: my_images/num_7.png\n",
      "loading: my_images/num_2.png\n",
      "loading: my_images/num_8.png\n",
      "loading: my_images/num_5.png\n",
      "loading: my_images/num_3.png\n",
      "done\n"
     ]
    }
   ],
   "source": [
    "# Question Mark \"?\" matches exactly one character\n",
    "for image_file_name in glob.glob('my_images/num_?.png'):\n",
    "    print(\"loading:\", image_file_name)\n",
    "    # we set the label from the filename\n",
    "    label = int(image_file_name[-5:-4])\n",
    "    # image data from png files into an array\n",
    "    img_array = imageio.imread(image_file_name, as_gray=True)\n",
    "    # invert values\n",
    "    img_data  = 255.0 - img_array.reshape(784)\n",
    "    # scale values to range from 0.01 to 1.0\n",
    "    img_data = (img_data / 255.0 * 0.99) + 0.01\n",
    "    # record = label + the image data\n",
    "    record = numpy.append(label,img_data)\n",
    "    # append the record to the test data set\n",
    "    test_dataset.append(record)\n",
    "    pass    \n",
    "\n",
    "    \n",
    "print(\"done\")"
   ]
  },
  {
   "cell_type": "code",
   "execution_count": 4,
   "id": "62c37fcb-0af2-4d44-a267-fdcfcc197a5f",
   "metadata": {},
   "outputs": [
    {
     "data": {
      "text/plain": [
       "<matplotlib.image.AxesImage at 0x7fdb7b1e1be0>"
      ]
     },
     "execution_count": 4,
     "metadata": {},
     "output_type": "execute_result"
    },
    {
     "data": {
      "image/png": "[encoded data removed]",
      "text/plain": [
       "<Figure size 432x288 with 1 Axes>"
      ]
     },
     "metadata": {
      "needs_background": "light"
     },
     "output_type": "display_data"
    }
   ],
   "source": [
    "# plot the 3rd of our numbers from the dataset\n",
    "matplotlib.pyplot.imshow(test_dataset[2][1:].reshape(28,28), cmap='Greys', interpolation='None')"
   ]
  },
  {
   "cell_type": "code",
   "execution_count": 5,
   "id": "488c51c0-c8df-4ec5-84e9-c7f7944cb578",
   "metadata": {},
   "outputs": [],
   "source": [
    "# print the 3rd record in the test data array\n",
    "# print(test_dataset[2])"
   ]
  }
 ],
 "metadata": {
  "kernelspec": {
   "display_name": "Python 3 (ipykernel)",
   "language": "python",
   "name": "python3"
  },
  "language_info": {
   "codemirror_mode": {
    "name": "ipython",
    "version": 3
   },
   "file_extension": ".py",
   "mimetype": "text/x-python",
   "name": "python",
   "nbconvert_exporter": "python",
   "pygments_lexer": "ipython3",
   "version": "3.8.10"
  }
 },
 "nbformat": 4,
 "nbformat_minor": 5
}
